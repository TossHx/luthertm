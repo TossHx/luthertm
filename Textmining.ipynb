{
  "nbformat": 4,
  "nbformat_minor": 0,
  "metadata": {
    "colab": {
      "name": "Textmining.ipynb",
      "provenance": []
    },
    "kernelspec": {
      "name": "python3",
      "display_name": "Python 3"
    }
  },
  "cells": [
    {
      "cell_type": "markdown",
      "metadata": {
        "id": "aA7NUaNAf3lC",
        "colab_type": "text"
      },
      "source": [
        "Zuerst Bibliotheken laden"
      ]
    },
    {
      "cell_type": "code",
      "metadata": {
        "id": "vDEBQGHn86IX",
        "colab_type": "code",
        "colab": {
          "base_uri": "https://localhost:8080/",
          "height": 102
        },
        "outputId": "a92f3fca-c82e-49b3-b0de-831040e72c95"
      },
      "source": [
        "!pip install HanTa"
      ],
      "execution_count": 3,
      "outputs": [
        {
          "output_type": "stream",
          "text": [
            "Collecting HanTa\n",
            "\u001b[?25l  Downloading https://files.pythonhosted.org/packages/e8/ba/e650f99eeb318bc9790182ec570e75b4fffa45b4c95af82b1e61b49c298d/HanTa-0.1.1-py3-none-any.whl (1.5MB)\n",
            "\u001b[K     |████████████████████████████████| 1.5MB 2.7MB/s \n",
            "\u001b[?25hInstalling collected packages: HanTa\n",
            "Successfully installed HanTa-0.1.1\n"
          ],
          "name": "stdout"
        }
      ]
    },
    {
      "cell_type": "code",
      "metadata": {
        "id": "zjqhpYarnVKb",
        "colab_type": "code",
        "colab": {
          "base_uri": "https://localhost:8080/",
          "height": 122
        },
        "outputId": "32d91a91-af1d-44dd-8626-7f5f0aec44e6"
      },
      "source": [
        "from google.colab import drive\n",
        "drive.mount('/content/drive/')"
      ],
      "execution_count": 5,
      "outputs": [
        {
          "output_type": "stream",
          "text": [
            "Go to this URL in a browser: https://accounts.google.com/o/oauth2/auth?client_id=947318989803-6bn6qk8qdgf4n4g3pfee6491hc0brc4i.apps.googleusercontent.com&redirect_uri=urn%3aietf%3awg%3aoauth%3a2.0%3aoob&response_type=code&scope=email%20https%3a%2f%2fwww.googleapis.com%2fauth%2fdocs.test%20https%3a%2f%2fwww.googleapis.com%2fauth%2fdrive%20https%3a%2f%2fwww.googleapis.com%2fauth%2fdrive.photos.readonly%20https%3a%2f%2fwww.googleapis.com%2fauth%2fpeopleapi.readonly\n",
            "\n",
            "Enter your authorization code:\n",
            "··········\n",
            "Mounted at /content/drive/\n"
          ],
          "name": "stdout"
        }
      ]
    },
    {
      "cell_type": "code",
      "metadata": {
        "id": "18tbDRJSi8ux",
        "colab_type": "code",
        "colab": {}
      },
      "source": [
        "%matplotlib inline\n",
        "import matplotlib.pyplot as plt\n",
        "import numpy as np\n",
        "from textblob import TextBlob\n",
        "import pandas as pd\n",
        "from os.path import join\n",
        "import os\n",
        "\n"
      ],
      "execution_count": 4,
      "outputs": []
    },
    {
      "cell_type": "code",
      "metadata": {
        "id": "mQ3HCSuksDZB",
        "colab_type": "code",
        "colab": {
          "base_uri": "https://localhost:8080/",
          "height": 85
        },
        "outputId": "14bd72b0-69ce-452e-89ea-01b36cbb8514"
      },
      "source": [
        "# für Hanover Tagger\n",
        "from HanTa import HanoverTagger as ht\n",
        "tagger = ht.HanoverTagger('morphmodel_ger.pgz')\n",
        "from pprint import pprint\n",
        "\n",
        "# Bibliotheken für nltk\n",
        "import nltk\n",
        "from nltk.corpus import stopwords\n",
        "from nltk.tokenize import sent_tokenize, word_tokenize\n",
        "from nltk.stem import SnowballStemmer\n",
        "\n",
        "nltk.download ('stopwords')\n",
        "nltk.download('punkt')\n",
        "\n",
        "stemmer = SnowballStemmer(\"german\")\n",
        "\n",
        "stop_words_nltk = set(stopwords.words('german'))\n",
        "th_words = [ \".\", \",\", \";\", \":\",\"?\",\"!\",\"'\",'\"',\"'s\"]\n",
        "\n",
        "stop_words_th = set((u'–', u'.', u';', u'?', u':', u'!', u\"'s\", u'\"', u\"/n\"))\n",
        "stop_words = stop_words_nltk | stop_words_th\n",
        "\n"
      ],
      "execution_count": 5,
      "outputs": [
        {
          "output_type": "stream",
          "text": [
            "[nltk_data] Downloading package stopwords to /root/nltk_data...\n",
            "[nltk_data]   Unzipping corpora/stopwords.zip.\n",
            "[nltk_data] Downloading package punkt to /root/nltk_data...\n",
            "[nltk_data]   Unzipping tokenizers/punkt.zip.\n"
          ],
          "name": "stdout"
        }
      ]
    },
    {
      "cell_type": "markdown",
      "metadata": {
        "id": "qEX6Etejrol1",
        "colab_type": "text"
      },
      "source": [
        "Hier wird erst einmal der Text eingelesen, der untersucht wird."
      ]
    },
    {
      "cell_type": "code",
      "metadata": {
        "id": "K9fvYE6dgiBJ",
        "colab_type": "code",
        "colab": {}
      },
      "source": [
        "# Diese Prozedur sucht zum Buch-Namen - abgekürzt mit 3 Buchstaben alle Verse und schreibt sie in den return-Wert als String\n",
        "def bibel_lesen(buch):\n",
        "  luther = open('/content/drive/My Drive/luther/luther.txt','r')\n",
        "\n",
        "  a    = \"\"\n",
        "  text = \"\"\n",
        "  lfnr = 0\n",
        "  zeile = luther.readline()\n",
        "\n",
        "  # Bibel durchlesen\n",
        "  while a is not \"stop\" :\n",
        "     # wenn eine Zeile aus dem richtigen Buch gefunden wurd\n",
        "     z_buch = zeile[:3]\n",
        "\n",
        "     if z_buch == buch:\n",
        "       # dann das Buch rauskopieren\n",
        "       z_bst_leer = zeile[4:].find(\" \") # erstes Leerzeichen nach Buch-Abk + 1 = 4 Zeichen\n",
        "       text = text + \" \" + zeile[4 + z_bst_leer:]  # Buchnamen + Verszählung abschneiden\n",
        "       a = \"start\"\n",
        "     # wenn das Buch nicht passt, prüfen, ob es gerade gelesen wurde  \n",
        "     else:\n",
        "       if a == \"start\":\n",
        "         a = \"stop\" # damit Schleife anhält\n",
        " \n",
        "     # nächsten Vers lesen\n",
        "     lfnr = lfnr + 1\n",
        "     zeile = luther.readline()\n",
        "\n",
        "  luther.close()\n",
        "  return(text)"
      ],
      "execution_count": 11,
      "outputs": []
    },
    {
      "cell_type": "code",
      "metadata": {
        "id": "L2kgeLem3gHt",
        "colab_type": "code",
        "colab": {
          "base_uri": "https://localhost:8080/",
          "height": 54
        },
        "outputId": "75ee71ba-6c04-418e-8c45-b580cb3c6e86"
      },
      "source": [
        "# welche Bücher hat dieser Text?\n",
        "luther = open('/content/drive/My Drive/luther/luther.txt','r')\n",
        "\n",
        "buch_liste = []\n",
        "\n",
        "b_alt = \"xxx\"\n",
        "zeile = luther.readline()\n",
        "\n",
        "while zeile > \"\":\n",
        "  b = zeile[0:3]\n",
        "  if b != b_alt:\n",
        "    buch_liste.append(b)\n",
        "    b_alt = b\n",
        "  zeile = luther.readline()\n",
        "\n",
        "\n",
        "luther.close()\n",
        "\n",
        "print(buch_liste)"
      ],
      "execution_count": 6,
      "outputs": [
        {
          "output_type": "stream",
          "text": [
            "['Gen', 'Exo', 'Lev', 'Num', 'Deu', 'Jos', 'Jdg', 'Rut', '1Sa', '2Sa', '1Ki', '2Ki', '1Ch', '2Ch', 'Ezr', 'Neh', 'Est', 'Job', 'Psa', 'Pro', 'Ecc', 'Sol', 'Isa', 'Jer', 'Lam', 'Eze', 'Dan', 'Hos', 'Joe', 'Amo', 'Abd', 'Jon', 'Mic', 'Nah', 'Hab', 'Zep', 'Hag', 'Zec', 'Mal', 'Mat', 'Mar', 'Luk', 'Joh', 'Act', 'Rom', '1Co', '2Co', 'Gal', 'Eph', 'Phi', 'Col', '1Th', '2Th', '1Ti', '2Ti', 'Tit', 'Phm', 'Heb', 'Jam', '1Pe', '2Pe', '1Jo', '2Jo', '3Jo', 'Jud', 'Rev']\n"
          ],
          "name": "stdout"
        }
      ]
    },
    {
      "cell_type": "markdown",
      "metadata": {
        "id": "Osz9WDGIr0Cv",
        "colab_type": "text"
      },
      "source": [
        "Hier kommt die eigentliche Textmining- Analyse"
      ]
    },
    {
      "cell_type": "code",
      "metadata": {
        "id": "6nuhLVE69ERp",
        "colab_type": "code",
        "colab": {}
      },
      "source": [
        "# Top 10 nound + verbs im Text bestimmen\n",
        "\n",
        "def top10(text):\n",
        "    sentences = nltk.sent_tokenize(text,language='german')\n",
        "    #tokenized_sent = nltk.tokenize.word_tokenize(text,language='german')\n",
        "\n",
        "    nouns = [] \n",
        "    verbs = []\n",
        "    adja  = []\n",
        "    sentences_tok = [nltk.tokenize.word_tokenize(sent) for sent in sentences]\n",
        "    for sent in sentences_tok:\n",
        "        tags = tagger.tag_sent(sent) \n",
        "        nouns_from_sent = [lemma for (word,lemma,pos) in tags if pos == \"NN\" or pos == \"NE\"]\n",
        "        nouns.extend(nouns_from_sent)\n",
        "        verbs_from_sent = [lemma for (word,lemma,pos) in tags if pos[:2] == \"VV\"]\n",
        "        verbs.extend(verbs_from_sent)\n",
        "        adja_from_sent = [lemma for (word,lemma,pos) in tags if pos == \"ADJA\"]\n",
        "        adja.extend(adja_from_sent)\n",
        "\n",
        "    fdist       = nltk.FreqDist(nouns) \n",
        "    anz_n       = fdist.N()\n",
        "    anz_n_tok   = 0 #counts(fdist.keys)\n",
        "\n",
        "    n10 = fdist.most_common(10)\n",
        "    n10_proz = []\n",
        "    for (a,b) in n10:\n",
        "        c = round(100*b/anz_n,2)\n",
        "        n10_proz.append((a,c))\n",
        "\n",
        "    fdist       = nltk.FreqDist(verbs) \n",
        "    anz_v       = fdist.N()\n",
        "    anz_v_tok   = 0 #counts(fdist.keys)\n",
        "\n",
        "    v10 = fdist.most_common(10)\n",
        "    v10_proz = []\n",
        "    for (a,b) in v10:\n",
        "        c = round( 100*b/anz_v,2)\n",
        "        v10_proz.append((a,c))\n",
        "\n",
        "    fdist       = nltk.FreqDist(adja) \n",
        "    anz_a       = fdist.N()\n",
        "    anz_a_tok   = 0 #counts(fdist.keys)\n",
        "\n",
        "    a10 = fdist.most_common(10)\n",
        "    a10_proz = []\n",
        "    for (a,b) in a10:\n",
        "        c = round( 100*b/anz_a,2)\n",
        "        a10_proz.append((a,c))\n",
        "\n",
        "    #print(anz_n, anz_n_tok, anz_v, anz_v_tok)\n",
        "    return(n10_proz,v10_proz, a10_proz, anz_n, anz_v, anz_a)\n",
        "    # print(n10_proz)\n",
        "    # print(v10_proz)\n",
        "    # fdist.plot(50,cumulative=False)\n"
      ],
      "execution_count": 12,
      "outputs": []
    },
    {
      "cell_type": "code",
      "metadata": {
        "id": "vPWAReWD_WNZ",
        "colab_type": "code",
        "colab": {
          "base_uri": "https://localhost:8080/",
          "height": 935
        },
        "outputId": "f6ad8f48-d55b-4ab0-ccdb-2b176de80686"
      },
      "source": [
        "# Dieses Buch wird bearbeitet\n",
        "def haupt_je_buch(buch):\n",
        "    text          = bibel_lesen(buch)\n",
        "    n10, v10, a10, n, v, a = top10(text)\n",
        "    print(\"--------------- \",buch,\" ---------------\")\n",
        "    print(n10)\n",
        "    print(v10)\n",
        "    print(a10)\n",
        "    print(n,v,a)\n",
        "    print(\"--------------- --- ---------------\")\n",
        "    return(n,v,a)\n",
        "\n",
        "kennzahlen = []\n",
        "for b in buch_liste[0:5] + buch_liste[-27:-23]:     #-27:-23\n",
        "    # Dieses Buch wird bearbeitet\n",
        "    n,v,a = haupt_je_buch(b)\n",
        "    kennzahlen.append((b, n, v, a))\n"
      ],
      "execution_count": 15,
      "outputs": [
        {
          "output_type": "stream",
          "text": [
            "---------------  Gen  ---------------\n",
            "[('Herr', 3.1), ('Sohn', 2.86), ('Gott', 2.82), ('Vater', 2.48), ('Land', 2.18), ('Bruder', 2.11), ('Jakob', 2.08), ('Kind', 1.79), ('Joseph', 1.68), ('Erde', 1.52)]\n",
            "[('sprechen', 9.8), ('sehen', 4.56), ('kommen', 3.71), ('nehmen', 2.92), ('geben', 2.79), ('gehen', 2.48), ('werden', 2.42), ('lassen', 2.42), ('tun', 2.42), ('ziehen', 2.38)]\n",
            "[('ganz', 7.4), ('groß', 5.78), ('jung', 4.33), ('lebendig', 3.07), ('ander', 2.53), ('erster', 2.35), ('anderer', 2.35), ('alt', 2.35), ('oberer', 2.35), ('eu', 2.17)]\n",
            "7878 4798 554\n",
            "--------------- --- ---------------\n",
            "---------------  Exo  ---------------\n",
            "[('Herr', 6.63), ('Mose', 3.89), ('Volk', 2.69), ('Israel', 2.58), ('Kind', 2.42), ('Gott', 2.2), ('Aaron', 1.77), ('Pharao', 1.75), ('Hand', 1.51), ('Tag', 1.32)]\n",
            "[('sprechen', 6.45), ('machen', 5.92), ('tun', 4.2), ('lassen', 3.52), ('sehen', 3.34), ('gehen', 2.99), ('kommen', 2.57), ('nehmen', 2.4), ('sagen', 2.13), ('geben', 1.89)]\n",
            "[('golden', 5.81), ('blau', 4.93), ('weiß', 4.93), ('heilig', 4.06), ('ganz', 4.06), ('rot', 3.77), ('fein', 3.48), ('erster', 3.34), ('ander', 3.19), ('groß', 2.76)]\n",
            "6272 3380 689\n",
            "--------------- --- ---------------\n",
            "---------------  Lev  ---------------\n",
            "[('Herr', 7.16), ('Priester', 3.17), ('Tag', 2.28), ('Blut', 1.83), ('Altar', 1.83), ('Aaron', 1.69), ('Mose', 1.6), ('Kind', 1.6), ('Israel', 1.44), ('Sohn', 1.39)]\n",
            "[('tun', 6.31), ('essen', 3.55), ('bringen', 2.99), ('nehmen', 2.85), ('sprechen', 2.57), ('opfern', 2.52), ('reden', 1.92), ('versöhnen', 1.92), ('machen', 1.64), ('waschen', 1.64)]\n",
            "[('heilig', 5.93), ('rechter', 5.73), ('eu', 5.53), ('ganz', 4.55), ('siebenter', 3.95), ('anderer', 3.75), ('süß', 3.36), ('ewig', 3.36), ('jung', 2.96), ('hochheilig', 2.57)]\n",
            "4383 2139 506\n",
            "--------------- --- ---------------\n",
            "---------------  Num  ---------------\n",
            "[('Herr', 5.67), ('Kind', 4.33), ('Israel', 3.22), ('Mose', 3.14), ('Sohn', 2.54), ('Geschlecht', 2.04), ('Land', 1.43), ('Aaron', 1.36), ('Tag', 1.25), ('Stamm', 1.25)]\n",
            "[('sprechen', 6.27), ('ziehen', 5.01), ('kommen', 4.43), ('geben', 4.36), ('tun', 4.05), ('reden', 3.03), ('nehmen', 2.93), ('sehen', 2.28), ('gehen', 2.15), ('lagern', 2.11)]\n",
            "[('ganz', 9.28), ('jährig', 5.38), ('silbern', 4.82), ('jung', 4.64), ('erster', 3.71), ('täglich', 3.34), ('süß', 3.34), ('golden', 2.97), ('hundertdreißig', 2.41), ('siebenter', 2.23)]\n",
            "7042 2936 539\n",
            "--------------- --- ---------------\n",
            "---------------  Deu  ---------------\n",
            "[('Herr', 10.35), ('Gott', 7.46), ('Land', 3.35), ('Volk', 2.69), ('Kind', 1.45), ('Hand', 1.43), ('Israel', 1.42), ('Vater', 1.4), ('Gebot', 1.1), ('Stadt', 1.1)]\n",
            "[('tun', 4.94), ('geben', 4.75), ('gehen', 2.58), ('sprechen', 2.49), ('sehen', 2.2), ('halten', 2.17), ('sagen', 2.14), ('lassen', 2.11), ('kommen', 2.07), ('nehmen', 1.95)]\n",
            "[('ganz', 10.78), ('groß', 7.33), ('eu', 4.53), ('alt', 4.31), ('erster', 2.8), ('gut', 2.59), ('am', 2.59), ('böse', 2.37), ('mächtig', 2.16), ('ander', 2.16)]\n",
            "5159 3135 464\n",
            "--------------- --- ---------------\n",
            "---------------  Mat  ---------------\n",
            "[('Jesus', 3.99), ('Mensch', 2.31), ('Herr', 2.18), ('Sohn', 2.08), ('Volk', 1.81), ('Vater', 1.65), ('Gott', 1.58), ('Himmel', 1.31), ('Prophet', 1.1), ('Bruder', 1.0)]\n",
            "[('sprechen', 9.7), ('sagen', 4.89), ('sehen', 4.78), ('kommen', 4.52), ('gehen', 4.11), ('tun', 2.4), ('geben', 2.03), ('hören', 1.82), ('nehmen', 1.74), ('lassen', 1.71)]\n",
            "[('ganz', 6.16), ('anderer', 5.94), ('gut', 4.79), ('erster', 4.34), ('groß', 4.34), ('alt', 3.65), ('heilig', 2.05), ('jüdisch', 2.05), ('rechter', 2.05), ('letzter', 1.83)]\n",
            "3807 3453 438\n",
            "--------------- --- ---------------\n",
            "---------------  Mar  ---------------\n",
            "[('Jesus', 3.64), ('Gott', 2.44), ('Mensch', 2.3), ('Volk', 2.02), ('Sohn', 1.75), ('Hand', 1.38), ('Tag', 1.24), ('Johannes', 1.2), ('Geist', 1.06), ('Haus', 1.06)]\n",
            "[('sprechen', 9.85), ('gehen', 4.77), ('kommen', 4.51), ('sehen', 4.15), ('sagen', 3.54), ('antworten', 1.94), ('geben', 1.9), ('tun', 1.86), ('nehmen', 1.81), ('lassen', 1.77)]\n",
            "[('ganz', 7.02), ('groß', 6.14), ('anderer', 5.26), ('unsauber', 4.39), ('alt', 4.39), ('heilig', 3.07), ('erster', 3.07), ('neu', 2.63), ('oberer', 2.63), ('ewig', 2.19)]\n",
            "2173 2263 228\n",
            "--------------- --- ---------------\n",
            "---------------  Luk  ---------------\n",
            "[('Sohn', 3.63), ('Gott', 3.13), ('Herr', 2.68), ('Mensch', 2.21), ('Volk', 1.95), ('Jesus', 1.75), ('Tag', 1.43), ('Vater', 1.4), ('Haus', 1.23), ('Reich', 1.08)]\n",
            "[('sprechen', 10.17), ('sehen', 4.65), ('kommen', 4.46), ('sagen', 4.38), ('gehen', 3.38), ('tun', 2.19), ('geben', 1.8), ('nehmen', 1.64), ('lassen', 1.56), ('stehen', 1.45)]\n",
            "[('groß', 9.05), ('ganz', 5.03), ('gut', 4.52), ('anderer', 4.27), ('heilig', 4.02), ('alt', 3.27), ('dritter', 2.76), ('erster', 2.26), ('ander', 1.76), ('oberer', 1.76)]\n",
            "3990 3786 398\n",
            "--------------- --- ---------------\n",
            "---------------  Joh  ---------------\n",
            "[('Jesus', 7.76), ('Vater', 4.95), ('Gott', 2.95), ('Welt', 2.88), ('Jude', 2.42), ('Sohn', 2.06), ('Mensch', 1.89), ('Herr', 1.81), ('Leben', 1.67), ('Wort', 1.46)]\n",
            "[('sprechen', 11.24), ('kommen', 6.21), ('sagen', 5.17), ('sehen', 4.5), ('gehen', 3.56), ('glauben', 3.42), ('tun', 3.32), ('antworten', 2.72), ('geben', 2.69), ('wissen', 2.58)]\n",
            "[('ewig', 9.77), ('klein', 6.9), ('anderer', 5.75), ('erster', 5.17), ('groß', 4.6), ('ander', 4.02), ('heilig', 4.02), ('rechter', 4.02), ('gut', 4.02), ('eu', 4.02)]\n",
            "2810 2865 174\n",
            "--------------- --- ---------------\n"
          ],
          "name": "stdout"
        }
      ]
    },
    {
      "cell_type": "code",
      "metadata": {
        "id": "XFXwTi3aGEmA",
        "colab_type": "code",
        "colab": {
          "base_uri": "https://localhost:8080/",
          "height": 298
        },
        "outputId": "000b06a9-5b31-4f20-b0ae-a7b1f6530798"
      },
      "source": [
        "# n-a-v auszählen\n",
        "labels=[]\n",
        "nouns=[]\n",
        "verbs=[]\n",
        "adjs=[]\n",
        "for l,n,v,a in kennzahlen:\n",
        "    labels.append(l)\n",
        "    nouns.append(n/(n+v+a))\n",
        "    verbs.append(v/(n+v+a))\n",
        "    adjs.append(a/(n+v+a))\n",
        "\n",
        "print(labels)\n",
        "\n",
        "width = 0.35       # the width of the bars: can also be len(x) sequence\n",
        "fig, ax = plt.subplots()\n",
        "# Hilfsvariable\n",
        "nv  = np.add(nouns, verbs).tolist()\n",
        "nva = np.add(nv, adjs).tolist()\n",
        "\n",
        "ax.bar(labels, nouns, width, label='Hauptwort')\n",
        "ax.bar(labels, verbs, width, bottom=nouns, label='Verb')\n",
        "ax.bar(labels, adjs,  width, bottom=nv, label='Adjektiv')\n",
        "\n",
        "ax.set_ylabel('Anzahl')\n",
        "ax.set_title('Wörter je Buch')\n",
        "ax.legend()\n",
        "\n",
        "plt.show()"
      ],
      "execution_count": 17,
      "outputs": [
        {
          "output_type": "stream",
          "text": [
            "['Gen', 'Exo', 'Lev', 'Num', 'Deu', 'Mat', 'Mar', 'Luk', 'Joh']\n"
          ],
          "name": "stdout"
        },
        {
          "output_type": "display_data",
          "data": {
            "image/png": "[encoded data removed]",
            "text/plain": [
              "<Figure size 432x288 with 1 Axes>"
            ]
          },
          "metadata": {
            "tags": [],
            "needs_background": "light"
          }
        }
      ]
    },
    {
      "cell_type": "code",
      "metadata": {
        "id": "_BG0ZdJvtsYR",
        "colab_type": "code",
        "colab": {}
      },
      "source": [
        "# Text in Wörter häckseln\n",
        "tokens = word_tokenize(text,language='german')\n",
        "\n",
        "# stop-words entfernen\n",
        "filtered_text = []\n",
        "\n",
        "for w in tokens:\n",
        "    if w.lower() not in stop_words:\n",
        "        filtered_text.append(w)\n",
        "\n",
        "# Remove single-character tokens (mostly punctuation)\n",
        "filtered_text = [word for word in filtered_text if len(word) > 1]\n",
        "\n",
        "# print(filtered_text[0:5])\n",
        "\n",
        "# stemming\n",
        "stem_text = []\n",
        "for w in filtered_text:\n",
        "  stem_w = stemmer.stem(w)\n",
        "  stem_text.append(stem_w)\n",
        "\n",
        "# print(stem_text[0:5])  \n",
        "\n",
        "# Top 15 ausgeben\n",
        "all_words = nltk.FreqDist(stem_text)\n",
        "print(all_words.most_common(15))\n",
        "top15 = all_words.most_common(15)"
      ],
      "execution_count": null,
      "outputs": []
    },
    {
      "cell_type": "code",
      "metadata": {
        "id": "_BgtWenR4gN4",
        "colab_type": "code",
        "colab": {}
      },
      "source": [
        "#print(len(stop_words))\n",
        "#print(stop_words)\n",
        "# print(sum(all_words.freq))\n",
        "#  nltk.collocations.BigramCollocationFinder\n",
        "anz_worte = all_words.N()\n",
        "anz_tok   = len(set(stem_text))\n",
        "\n",
        "proz_liste = []\n",
        "for (a,b) in top15:\n",
        "  c = 100*b/anz_worte\n",
        "  proz_liste.append((a,c))\n",
        "\n",
        "print(proz_liste)"
      ],
      "execution_count": null,
      "outputs": []
    },
    {
      "cell_type": "code",
      "metadata": {
        "id": "ftDh_FtOt47d",
        "colab_type": "code",
        "colab": {
          "base_uri": "https://localhost:8080/",
          "height": 214
        },
        "outputId": "aeaebc85-9b12-4018-d999-582ef7888ed6"
      },
      "source": [
        "#Location of a word in the text: how many spaces from the beginning does it appear? \n",
        "\n",
        "#This positional information can be displayed using a dispersion plot. \n",
        "\n",
        "#You need NumPy and Matplotlib. \n",
        "\n",
        "#text4.dispersion_plot([\"citizens\", \"democracy\", \"freedom\", \"war\", \"America\", \"vote\"])\n",
        "#print(text)\n",
        "#text = text.replace(\"\\n\", \"\")\n",
        "#print(tags)\n",
        "\n",
        "#print(n10_proz)\n",
        "#print(v10_proz)\n",
        "nva = np.add(nv, adjs).tolist()\n",
        "n_proz = np.div(nv,adjs).toliste()"
      ],
      "execution_count": 1,
      "outputs": [
        {
          "output_type": "error",
          "ename": "NameError",
          "evalue": "ignored",
          "traceback": [
            "\u001b[0;31m---------------------------------------------------------------------------\u001b[0m",
            "\u001b[0;31mNameError\u001b[0m                                 Traceback (most recent call last)",
            "\u001b[0;32m<ipython-input-1-4483b51440f6>\u001b[0m in \u001b[0;36m<module>\u001b[0;34m()\u001b[0m\n\u001b[1;32m     12\u001b[0m \u001b[0;31m#print(n10_proz)\u001b[0m\u001b[0;34m\u001b[0m\u001b[0;34m\u001b[0m\u001b[0;34m\u001b[0m\u001b[0m\n\u001b[1;32m     13\u001b[0m \u001b[0;31m#print(v10_proz)\u001b[0m\u001b[0;34m\u001b[0m\u001b[0;34m\u001b[0m\u001b[0;34m\u001b[0m\u001b[0m\n\u001b[0;32m---> 14\u001b[0;31m \u001b[0mnva\u001b[0m \u001b[0;34m=\u001b[0m \u001b[0mnp\u001b[0m\u001b[0;34m.\u001b[0m\u001b[0madd\u001b[0m\u001b[0;34m(\u001b[0m\u001b[0mnv\u001b[0m\u001b[0;34m,\u001b[0m \u001b[0madjs\u001b[0m\u001b[0;34m)\u001b[0m\u001b[0;34m.\u001b[0m\u001b[0mtolist\u001b[0m\u001b[0;34m(\u001b[0m\u001b[0;34m)\u001b[0m\u001b[0;34m\u001b[0m\u001b[0;34m\u001b[0m\u001b[0m\n\u001b[0m\u001b[1;32m     15\u001b[0m \u001b[0mn_proz\u001b[0m \u001b[0;34m=\u001b[0m \u001b[0mnp\u001b[0m\u001b[0;34m.\u001b[0m\u001b[0mdiv\u001b[0m\u001b[0;34m(\u001b[0m\u001b[0mnv\u001b[0m\u001b[0;34m,\u001b[0m\u001b[0madjs\u001b[0m\u001b[0;34m)\u001b[0m\u001b[0;34m.\u001b[0m\u001b[0mtoliste\u001b[0m\u001b[0;34m(\u001b[0m\u001b[0;34m)\u001b[0m\u001b[0;34m\u001b[0m\u001b[0;34m\u001b[0m\u001b[0m\n",
            "\u001b[0;31mNameError\u001b[0m: name 'np' is not defined"
          ]
        }
      ]
    }
  ]
}