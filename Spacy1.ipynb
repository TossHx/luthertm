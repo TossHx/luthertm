{
  "nbformat": 4,
  "nbformat_minor": 0,
  "metadata": {
    "colab": {
      "name": "Spacy1.ipynb",
      "provenance": [],
      "collapsed_sections": []
    },
    "kernelspec": {
      "name": "python3",
      "display_name": "Python 3"
    }
  },
  "cells": [
    {
      "cell_type": "markdown",
      "metadata": {
        "id": "QzeY8tWhznxc",
        "colab_type": "text"
      },
      "source": [
        "Text einlesen\n",
        " - url angeben\n",
        " - echten header statt python, sonst mag es der gerufene server nicht\n",
        " - umcodieren der deutschen Umlaute nach UTF 8\n",
        "\n",
        " Text in eine Datei schreiben"
      ]
    },
    {
      "cell_type": "code",
      "metadata": {
        "id": "X6NoQWgJelqP",
        "colab_type": "code",
        "colab": {}
      },
      "source": [
        "#\n",
        "import urllib.request\n",
        "import re\n",
        "from collections import Counter\n"
      ],
      "execution_count": 1,
      "outputs": []
    },
    {
      "cell_type": "code",
      "metadata": {
        "id": "OFayHtOwelkp",
        "colab_type": "code",
        "colab": {}
      },
      "source": [
        "# Buchkapitel lesen\n",
        "def lese_kapitel(buch, kptnr):\n",
        "    # Parameter\n",
        "    user_agent = 'Mozilla/5.0 (Windows; U; Windows NT 5.1; UTF8; rv:1.9.0.7) Gecko/2009021910 Firefox/3.0.7'\n",
        "    headers={'User-Agent':user_agent,} \n",
        "    \n",
        "    # open a connection to a URL using urllib\n",
        "    # url = \"https://www.bibleserver.com/LUT/Markus1\"\n",
        "    if (buch == \"Mat\"):\n",
        "        url = \"https://www.bibleserver.com/LUT/Matth%C3%A4us\" + kptnr  #übersetzer'.encode('punycode').decode() \n",
        "    else:  \n",
        "        url = \"https://www.bibleserver.com/LUT/\"+ buch + \"/\" + kptnr\n",
        "    # print(url)\n",
        "      \n",
        "    request=urllib.request.Request(url,None,headers) #The assembled request\n",
        "\n",
        "    response = urllib.request.urlopen(request)\n",
        "\n",
        "    data = response.read().decode(response.headers.get_content_charset()) # The data u need # decode nachUTF8 wegen Umlauten....\n",
        "\n",
        "    # relevanten Teil rausschneiden\n",
        "    phs = re.findall(r'<span class=\"verse-content--hover\">(.*?)</span>',str(data))\n",
        "    # print(phs)\n",
        "    doc = \"\"\n",
        "    for eachP in phs:\n",
        "        doc = doc + \" \" + eachP\n",
        "\n",
        "    return doc"
      ],
      "execution_count": 19,
      "outputs": []
    },
    {
      "cell_type": "markdown",
      "metadata": {
        "id": "SuVobpN90OF4",
        "colab_type": "text"
      },
      "source": [
        "Jetzt kommt die eigentliche Textanalyse mit Spacy"
      ]
    },
    {
      "cell_type": "code",
      "metadata": {
        "id": "S8Rsnv_BV9Df",
        "colab_type": "code",
        "colab": {
          "base_uri": "https://localhost:8080/",
          "height": 51
        },
        "outputId": "0c628c3c-3cf0-4a21-8520-d016232f0c7a"
      },
      "source": [
        "import spacy.cli\n",
        "spacy.cli.download(\"de_core_news_md\")"
      ],
      "execution_count": 5,
      "outputs": [
        {
          "output_type": "stream",
          "text": [
            "\u001b[38;5;2m✔ Download and installation successful\u001b[0m\n",
            "You can now load the model via spacy.load('de_core_news_md')\n"
          ],
          "name": "stdout"
        }
      ]
    },
    {
      "cell_type": "code",
      "metadata": {
        "id": "MH24MEGCXGoH",
        "colab_type": "code",
        "colab": {}
      },
      "source": [
        " # spacy.load('de_core_news_md')"
      ],
      "execution_count": 3,
      "outputs": []
    },
    {
      "cell_type": "code",
      "metadata": {
        "id": "Mubtg_GzX52s",
        "colab_type": "code",
        "colab": {}
      },
      "source": [
        "import spacy\n",
        "nlp = spacy.load('de_core_news_md')"
      ],
      "execution_count": 6,
      "outputs": []
    },
    {
      "cell_type": "code",
      "metadata": {
        "id": "-Z5HkMx0KICV",
        "colab_type": "code",
        "colab": {}
      },
      "source": [
        "def token_text(doc):\n",
        "    # tokenizer\n",
        "    text= nlp(doc)\n",
        "\n",
        "    #remove stopwords and punctuations\n",
        "    words = [token.lemma_ for token in text if token.is_stop != True and token.is_punct != True]\n",
        "    word_freq = Counter(words)\n",
        "    # Was sind die top 19?\n",
        "    common_words = word_freq.most_common(10)\n",
        "    return common_words"
      ],
      "execution_count": 7,
      "outputs": []
    },
    {
      "cell_type": "code",
      "metadata": {
        "id": "SmfKyUhTY-qx",
        "colab_type": "code",
        "colab": {}
      },
      "source": [
        "def search_maxkap(buch):\n",
        "    kapmax_liste = [(\"Markus\",18),(\"Matthäus\", 28), (\"Lukas\", 24) , (\"Johannes\", 21)]\n",
        "    for i in range(len(kapmax_liste)):\n",
        "        if kapmax_liste[i][0] == buch:\n",
        "            return kapmax_liste[i][1]\n",
        "        #print(kapmax_liste[i][0])       \n",
        "    return 0\n",
        "\n",
        "# k = search_maxkap(\"Lukas\")\n",
        "# print(k)\n",
        "\n",
        "def check_buch(buch,kapmax):\n",
        "        \n",
        "    buchtext = \"\"\n",
        "    kap      = 1\n",
        "    while kap <= kapmax: \n",
        "        # print(kap)\n",
        "        kapitel = lese_kapitel(buch,str(kap))\n",
        "        buchtext = buchtext + kapitel\n",
        "        kap = kap + 1\n",
        "    \n",
        "    top10   = token_text(buchtext)\n",
        "    return top10\n"
      ],
      "execution_count": 8,
      "outputs": []
    },
    {
      "cell_type": "code",
      "metadata": {
        "id": "jGe2QlnmZuGA",
        "colab_type": "code",
        "colab": {
          "base_uri": "https://localhost:8080/",
          "height": 85
        },
        "outputId": "3fd935cd-ba25-44e5-f974-56ece2d892dc"
      },
      "source": [
        "erg = check_buch(\"Mat\",18)\n",
        "print(erg)\n",
        "erg = check_buch(\"Markus\",28)\n",
        "print(erg)\n",
        "erg = check_buch(\"Lukas\",24)\n",
        "print(erg)\n",
        "erg = check_buch(\"Johannes\",21)\n",
        "print(erg)\n",
        "erg = check_buch(\"Apostelgeschichte\",28)\n",
        "print(erg)"
      ],
      "execution_count": 21,
      "outputs": [
        {
          "output_type": "stream",
          "text": [
            "[('sprechen', 130), ('Jesus', 87), ('Vater', 47), ('sage', 43), ('hören', 42), ('mein', 42), ('zeugen', 39), ('sehen', 37), ('Volk', 36), (\"'s\", 35)]\n",
            "[('sprechen', 183), ('Jesus', 130), ('sehen', 89), ('glauben', 88), ('gehen', 70), ('Hand', 66), (\"'s\", 62), ('sprachen', 59), ('Grab', 55), ('kommen', 50)]\n",
            "[('sprechen', 297), ('Sohn', 123), ('Jesus', 98), ('sehen', 74), ('Gott', 64), ('Herr', 62), ('sprachen', 61), ('hören', 59), ('Volk', 57), ('Vater', 56)]\n",
            "[('Jesus', 248), ('sprechen', 187), ('Vater', 136), ('sehen', 101), ('glauben', 88), ('Welt', 79), ('antworten', 79), ('sprachen', 72), ('Jude', 69), ('kommen', 67)]\n"
          ],
          "name": "stdout"
        }
      ]
    },
    {
      "cell_type": "code",
      "metadata": {
        "id": "OMTcG3k7UWs-",
        "colab_type": "code",
        "colab": {}
      },
      "source": [
        "# ner\n",
        "labels = set([w.label_ for w in text.ents]) \n",
        "for label in labels: \n",
        "    entities = [e.string for e in text.ents if label==e.label_] \n",
        "    entities = list(set(entities)) \n",
        "    print( label,entities)"
      ],
      "execution_count": null,
      "outputs": []
    },
    {
      "cell_type": "code",
      "metadata": {
        "id": "x6nvYm_76wEn",
        "colab_type": "code",
        "colab": {
          "base_uri": "https://localhost:8080/",
          "height": 34
        },
        "outputId": "501488b4-7df6-4f57-8d68-5ff3d572ce21"
      },
      "source": [
        "erg = check_buch(\"Apostelgeschichte\",28)\n",
        "print(erg)"
      ],
      "execution_count": 22,
      "outputs": [
        {
          "output_type": "stream",
          "text": [
            "[('sprechen', 150), ('Paulus', 137), ('Mann', 109), ('hören', 88), ('kommen', 88), ('Volk', 85), ('lassen', 82), ('Jude', 74), ('Geist', 72), ('sehen', 69)]\n"
          ],
          "name": "stdout"
        }
      ]
    }
  ]
}